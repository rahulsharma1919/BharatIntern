{
 "cells": [
  {
   "cell_type": "code",
   "execution_count": 1,
   "metadata": {},
   "outputs": [
    {
     "name": "stdout",
     "output_type": "stream",
     "text": [
      "The Autocorrect suggestions for mis-spelled words are {}\n",
      "Rahul\n"
     ]
    }
   ],
   "source": [
    "from spellchecker import SpellChecker\n",
    "\n",
    "spell = SpellChecker()\n",
    "\n",
    "text = input(\"Enter any word:\")\n",
    "\n",
    "dict_of_autocorrect_words = {}\n",
    "for i in spell.unknown(text.split()):\n",
    "    dict_of_autocorrect_words[i] = spell.correction(i)\n",
    "\n",
    "print(f'The Autocorrect suggestions for mis-spelled words are {dict_of_autocorrect_words}')\n",
    "\n",
    "temp = text.split()\n",
    "res = []\n",
    "for wrd in temp:\n",
    "    res.append(dict_of_autocorrect_words.get(wrd, wrd))\n",
    "\n",
    "res = ' '.join(res)\n",
    "\n",
    "print(res)"
   ]
  }
 ],
 "metadata": {
  "kernelspec": {
   "display_name": "Python 3",
   "language": "python",
   "name": "python3"
  },
  "language_info": {
   "codemirror_mode": {
    "name": "ipython",
    "version": 3
   },
   "file_extension": ".py",
   "mimetype": "text/x-python",
   "name": "python",
   "nbconvert_exporter": "python",
   "pygments_lexer": "ipython3",
   "version": "3.11.0"
  },
  "orig_nbformat": 4
 },
 "nbformat": 4,
 "nbformat_minor": 2
}
